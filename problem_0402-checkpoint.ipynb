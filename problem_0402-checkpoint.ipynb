{
 "cells": [
  {
   "cell_type": "markdown",
   "metadata": {},
   "source": [
    "## Quiz #0402"
   ]
  },
  {
   "cell_type": "markdown",
   "metadata": {},
   "source": [
    "### \"OLS solution\""
   ]
  },
  {
   "cell_type": "code",
   "execution_count": 6,
   "metadata": {},
   "outputs": [],
   "source": [
    "import numpy as np\n",
    "import pandas as pd\n",
    "from sklearn.model_selection import train_test_split\n",
    "from sklearn.linear_model import LinearRegression\n",
    "from sklearn.metrics import mean_squared_error\n",
    "from sklearn import metrics"
   ]
  },
  {
   "cell_type": "markdown",
   "metadata": {},
   "source": [
    "#### Answer the following question by providing Python code:\n",
    "<br>\n",
    "study = an array that contains the hours of study. This is the explanatory variable. <br>\n",
    "score = an array that contains the test scores. This is the response variable."
   ]
  },
  {
   "cell_type": "code",
   "execution_count": 2,
   "metadata": {},
   "outputs": [],
   "source": [
    "study = np.array([ 3, 4.5, 6, 1.2, 2, 6.9, 6.7, 5.5]).reshape(-1,1)\n",
    "score = np.array([ 88, 85, 90, 80, 81, 92, 95, 90]).reshape(-1,1)"
   ]
  },
  {
   "cell_type": "markdown",
   "metadata": {},
   "source": [
    "1). Define the 'linerRegression' class to match the output shown below:"
   ]
  },
  {
   "cell_type": "code",
   "execution_count": 118,
   "metadata": {},
   "outputs": [],
   "source": [
    "class linearRegression:\n",
    "    def __init__(self):\n",
    "        self.model = LinearRegression()\n",
    "        \n",
    "        \n",
    "        \n",
    "    def train(self, input_X, input_Y):\n",
    "        self.x_train = input_X\n",
    "        self.x_test = input_X\n",
    "        self.y_train =input_Y\n",
    "        self.y_test = input_Y\n",
    "        #self.x_train , self.x_test , self.y_train , self.y_test = train_test_split(input_X,input_Y,test_size=0.4,random_state=30) \n",
    "        self.model.fit(self.x_train, self.y_train)\n",
    "        self.predicted=self.model.predict(self.x_test)\n",
    "    def output(self):\n",
    "        covv = 0\n",
    "        varr = 0\n",
    "        for i in range (len(self.x_train)):\n",
    "            covv = covv +((self.x_train[i]-np.mean(self.x_train))*((self.y_train[i]-np.mean(self.y_train))))\n",
    "            varr = varr + (self.x_train[i]-np.mean(self.x_train))**2\n",
    "        inter = np.mean(self.y_train) - (covv/varr)*np.mean(self.x_train)\n",
    "        print(f\"Inrtercept  {inter}\")\n",
    "        print(f\"X1          {covv/varr}\")\n",
    "        R2 = 1\n",
    "        summ_u = 0\n",
    "        summ_d = 0\n",
    "        mean = np.mean(self.y_test)\n",
    "        for i in range (len(self.y_test)):\n",
    "            summ_u = summ_u + (self.y_test[i] - self.predicted[i])**2\n",
    "            summ_d = summ_d + (self.y_test[i] - mean)**2\n",
    "        R2 = R2-(summ_u/summ_d)\n",
    "        print(f\"R^2 {R2}\")\n",
    "        "
   ]
  },
  {
   "cell_type": "markdown",
   "metadata": {},
   "source": [
    "**Sample run:**"
   ]
  },
  {
   "cell_type": "code",
   "execution_count": 4,
   "metadata": {},
   "outputs": [
    {
     "name": "stdout",
     "output_type": "stream",
     "text": [
      "           Coefficient\n",
      "Intercept    77.684670\n",
      "X1            2.221303\n",
      "------------------------------\n",
      "R^2 : 0.845842\n"
     ]
    }
   ],
   "source": [
    "LR = linearRegression()                    # Create a linear regression object.\n",
    "LR.train(study, score)                     # Train.\n",
    "LR.output()                                # Display the training result."
   ]
  },
  {
   "cell_type": "code",
   "execution_count": 119,
   "metadata": {},
   "outputs": [
    {
     "name": "stdout",
     "output_type": "stream",
     "text": [
      "Inrtercept  [77.68466978]\n",
      "X1          [2.22130284]\n",
      "R^2 [0.84584233]\n"
     ]
    }
   ],
   "source": [
    "LR = linearRegression()                    # Create a linear regression object.\n",
    "LR.train(study, score)                     # Train.\n",
    "LR.output()    \n"
   ]
  },
  {
   "cell_type": "code",
   "execution_count": null,
   "metadata": {},
   "outputs": [],
   "source": []
  }
 ],
 "metadata": {
  "kernelspec": {
   "display_name": "Python 3",
   "language": "python",
   "name": "python3"
  },
  "language_info": {
   "codemirror_mode": {
    "name": "ipython",
    "version": 3
   },
   "file_extension": ".py",
   "mimetype": "text/x-python",
   "name": "python",
   "nbconvert_exporter": "python",
   "pygments_lexer": "ipython3",
   "version": "3.8.8"
  },
  "toc": {
   "base_numbering": 1,
   "nav_menu": {},
   "number_sections": true,
   "sideBar": true,
   "skip_h1_title": false,
   "title_cell": "Table of Contents",
   "title_sidebar": "Contents",
   "toc_cell": false,
   "toc_position": {},
   "toc_section_display": true,
   "toc_window_display": false
  },
  "varInspector": {
   "cols": {
    "lenName": 16,
    "lenType": 16,
    "lenVar": 40
   },
   "kernels_config": {
    "python": {
     "delete_cmd_postfix": "",
     "delete_cmd_prefix": "del ",
     "library": "var_list.py",
     "varRefreshCmd": "print(var_dic_list())"
    },
    "r": {
     "delete_cmd_postfix": ") ",
     "delete_cmd_prefix": "rm(",
     "library": "var_list.r",
     "varRefreshCmd": "cat(var_dic_list()) "
    }
   },
   "types_to_exclude": [
    "module",
    "function",
    "builtin_function_or_method",
    "instance",
    "_Feature"
   ],
   "window_display": false
  }
 },
 "nbformat": 4,
 "nbformat_minor": 2
}
